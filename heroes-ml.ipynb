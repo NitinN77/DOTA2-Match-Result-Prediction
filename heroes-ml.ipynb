{
 "cells": [
  {
   "cell_type": "code",
   "execution_count": 1,
   "source": [
    "import pandas as pd\r\n",
    "\r\n",
    "%matplotlib inline"
   ],
   "outputs": [],
   "metadata": {
    "_cell_guid": "ef98aeb2-87be-4a70-9654-d27d9bd5544d",
    "_uuid": "1096d94d07edfa11ca27e8414c2a7f341c2710d3",
    "collapsed": true
   }
  },
  {
   "cell_type": "code",
   "execution_count": 2,
   "source": [
    "players = pd.read_csv('players.csv')\r\n",
    "matches = pd.read_csv('match.csv')\r\n",
    "heroes = pd.read_csv('hero_names.csv')\r\n",
    "items = pd.read_csv('item_ids.csv')\r\n",
    "items.info()"
   ],
   "outputs": [
    {
     "output_type": "stream",
     "name": "stdout",
     "text": [
      "<class 'pandas.core.frame.DataFrame'>\n",
      "RangeIndex: 189 entries, 0 to 188\n",
      "Data columns (total 2 columns):\n",
      " #   Column     Non-Null Count  Dtype \n",
      "---  ------     --------------  ----- \n",
      " 0   item_id    189 non-null    int64 \n",
      " 1   item_name  189 non-null    object\n",
      "dtypes: int64(1), object(1)\n",
      "memory usage: 3.1+ KB\n"
     ]
    }
   ],
   "metadata": {
    "_cell_guid": "a22311d1-bdbd-48dc-9838-53806a4f1e25",
    "_uuid": "4265fea33c281c9b0d25e8820d6c8c2d7d184d66"
   }
  },
  {
   "cell_type": "code",
   "execution_count": 3,
   "source": [
    "hero_lookup = dict(zip(heroes['hero_id'], heroes['localized_name']))\r\n",
    "hero_lookup[0] = 'Unknown'\r\n",
    "players['hero'] = players['hero_id'].apply(lambda _id: hero_lookup[_id])"
   ],
   "outputs": [],
   "metadata": {
    "_cell_guid": "c4565481-b5e4-403b-a194-6b7df6dcfa56",
    "_uuid": "11fe0145663f88900adf037000ecc6d1ce1716b0"
   }
  },
  {
   "cell_type": "code",
   "execution_count": 4,
   "source": [
    "item_lookup = dict(zip(items['item_id'], items['item_name']))\r\n",
    "item_lookup[0] = 'Unknown'\r\n",
    "\r\n",
    "def find_item(_id):\r\n",
    "    return item_lookup.get(_id, 'u_' + str(_id))\r\n",
    "\r\n",
    "players['item_0'] = players['item_0'].apply(find_item)\r\n",
    "players['item_1'] = players['item_1'].apply(find_item)\r\n",
    "players['item_2'] = players['item_2'].apply(find_item)\r\n",
    "players['item_3'] = players['item_3'].apply(find_item)\r\n",
    "players['item_4'] = players['item_4'].apply(find_item)\r\n",
    "players['item_5'] = players['item_5'].apply(find_item)"
   ],
   "outputs": [],
   "metadata": {
    "_cell_guid": "45174fa0-0106-4563-9fe6-5749288cfe04",
    "_uuid": "87693ca1195b4cb6164c4493efbc66c9a4f83b70"
   }
  },
  {
   "cell_type": "code",
   "execution_count": 5,
   "source": [
    "player_heroes = pd.get_dummies(players['hero'])\r\n",
    "player_heroes"
   ],
   "outputs": [
    {
     "output_type": "execute_result",
     "data": {
      "text/plain": [
       "        Abaddon  Alchemist  Ancient Apparition  Anti-Mage  Axe  Bane  \\\n",
       "0             0          0                   0          0    0     0   \n",
       "1             0          0                   0          0    0     0   \n",
       "2             0          0                   0          0    0     0   \n",
       "3             0          0                   0          0    0     0   \n",
       "4             0          0                   0          0    0     0   \n",
       "...         ...        ...                 ...        ...  ...   ...   \n",
       "499995        0          0                   0          0    0     0   \n",
       "499996        0          0                   0          0    0     0   \n",
       "499997        0          0                   0          0    0     0   \n",
       "499998        0          1                   0          0    0     0   \n",
       "499999        0          0                   0          0    0     0   \n",
       "\n",
       "        Batrider  Beastmaster  Bloodseeker  Bounty Hunter  ...  Venomancer  \\\n",
       "0              0            0            0              0  ...           0   \n",
       "1              0            0            0              0  ...           0   \n",
       "2              0            0            0              0  ...           0   \n",
       "3              0            0            0              0  ...           0   \n",
       "4              0            0            0              0  ...           0   \n",
       "...          ...          ...          ...            ...  ...         ...   \n",
       "499995         0            0            0              0  ...           0   \n",
       "499996         0            0            0              0  ...           0   \n",
       "499997         0            0            0              0  ...           0   \n",
       "499998         0            0            0              0  ...           0   \n",
       "499999         0            0            0              0  ...           0   \n",
       "\n",
       "        Viper  Visage  Warlock  Weaver  Windranger  Winter Wyvern  \\\n",
       "0           0       0        0       0           0              0   \n",
       "1           0       0        0       0           0              0   \n",
       "2           0       0        0       0           0              0   \n",
       "3           0       0        0       0           0              0   \n",
       "4           0       0        0       0           0              0   \n",
       "...       ...     ...      ...     ...         ...            ...   \n",
       "499995      0       0        0       0           0              0   \n",
       "499996      0       0        0       0           0              0   \n",
       "499997      0       0        0       0           0              0   \n",
       "499998      0       0        0       0           0              0   \n",
       "499999      0       0        0       0           0              0   \n",
       "\n",
       "        Witch Doctor  Wraith King  Zeus  \n",
       "0                  0            0     0  \n",
       "1                  0            0     0  \n",
       "2                  0            0     0  \n",
       "3                  0            0     0  \n",
       "4                  0            0     0  \n",
       "...              ...          ...   ...  \n",
       "499995             0            0     0  \n",
       "499996             0            0     0  \n",
       "499997             0            0     0  \n",
       "499998             0            0     0  \n",
       "499999             0            0     0  \n",
       "\n",
       "[500000 rows x 111 columns]"
      ],
      "text/html": [
       "<div>\n",
       "<style scoped>\n",
       "    .dataframe tbody tr th:only-of-type {\n",
       "        vertical-align: middle;\n",
       "    }\n",
       "\n",
       "    .dataframe tbody tr th {\n",
       "        vertical-align: top;\n",
       "    }\n",
       "\n",
       "    .dataframe thead th {\n",
       "        text-align: right;\n",
       "    }\n",
       "</style>\n",
       "<table border=\"1\" class=\"dataframe\">\n",
       "  <thead>\n",
       "    <tr style=\"text-align: right;\">\n",
       "      <th></th>\n",
       "      <th>Abaddon</th>\n",
       "      <th>Alchemist</th>\n",
       "      <th>Ancient Apparition</th>\n",
       "      <th>Anti-Mage</th>\n",
       "      <th>Axe</th>\n",
       "      <th>Bane</th>\n",
       "      <th>Batrider</th>\n",
       "      <th>Beastmaster</th>\n",
       "      <th>Bloodseeker</th>\n",
       "      <th>Bounty Hunter</th>\n",
       "      <th>...</th>\n",
       "      <th>Venomancer</th>\n",
       "      <th>Viper</th>\n",
       "      <th>Visage</th>\n",
       "      <th>Warlock</th>\n",
       "      <th>Weaver</th>\n",
       "      <th>Windranger</th>\n",
       "      <th>Winter Wyvern</th>\n",
       "      <th>Witch Doctor</th>\n",
       "      <th>Wraith King</th>\n",
       "      <th>Zeus</th>\n",
       "    </tr>\n",
       "  </thead>\n",
       "  <tbody>\n",
       "    <tr>\n",
       "      <th>0</th>\n",
       "      <td>0</td>\n",
       "      <td>0</td>\n",
       "      <td>0</td>\n",
       "      <td>0</td>\n",
       "      <td>0</td>\n",
       "      <td>0</td>\n",
       "      <td>0</td>\n",
       "      <td>0</td>\n",
       "      <td>0</td>\n",
       "      <td>0</td>\n",
       "      <td>...</td>\n",
       "      <td>0</td>\n",
       "      <td>0</td>\n",
       "      <td>0</td>\n",
       "      <td>0</td>\n",
       "      <td>0</td>\n",
       "      <td>0</td>\n",
       "      <td>0</td>\n",
       "      <td>0</td>\n",
       "      <td>0</td>\n",
       "      <td>0</td>\n",
       "    </tr>\n",
       "    <tr>\n",
       "      <th>1</th>\n",
       "      <td>0</td>\n",
       "      <td>0</td>\n",
       "      <td>0</td>\n",
       "      <td>0</td>\n",
       "      <td>0</td>\n",
       "      <td>0</td>\n",
       "      <td>0</td>\n",
       "      <td>0</td>\n",
       "      <td>0</td>\n",
       "      <td>0</td>\n",
       "      <td>...</td>\n",
       "      <td>0</td>\n",
       "      <td>0</td>\n",
       "      <td>0</td>\n",
       "      <td>0</td>\n",
       "      <td>0</td>\n",
       "      <td>0</td>\n",
       "      <td>0</td>\n",
       "      <td>0</td>\n",
       "      <td>0</td>\n",
       "      <td>0</td>\n",
       "    </tr>\n",
       "    <tr>\n",
       "      <th>2</th>\n",
       "      <td>0</td>\n",
       "      <td>0</td>\n",
       "      <td>0</td>\n",
       "      <td>0</td>\n",
       "      <td>0</td>\n",
       "      <td>0</td>\n",
       "      <td>0</td>\n",
       "      <td>0</td>\n",
       "      <td>0</td>\n",
       "      <td>0</td>\n",
       "      <td>...</td>\n",
       "      <td>0</td>\n",
       "      <td>0</td>\n",
       "      <td>0</td>\n",
       "      <td>0</td>\n",
       "      <td>0</td>\n",
       "      <td>0</td>\n",
       "      <td>0</td>\n",
       "      <td>0</td>\n",
       "      <td>0</td>\n",
       "      <td>0</td>\n",
       "    </tr>\n",
       "    <tr>\n",
       "      <th>3</th>\n",
       "      <td>0</td>\n",
       "      <td>0</td>\n",
       "      <td>0</td>\n",
       "      <td>0</td>\n",
       "      <td>0</td>\n",
       "      <td>0</td>\n",
       "      <td>0</td>\n",
       "      <td>0</td>\n",
       "      <td>0</td>\n",
       "      <td>0</td>\n",
       "      <td>...</td>\n",
       "      <td>0</td>\n",
       "      <td>0</td>\n",
       "      <td>0</td>\n",
       "      <td>0</td>\n",
       "      <td>0</td>\n",
       "      <td>0</td>\n",
       "      <td>0</td>\n",
       "      <td>0</td>\n",
       "      <td>0</td>\n",
       "      <td>0</td>\n",
       "    </tr>\n",
       "    <tr>\n",
       "      <th>4</th>\n",
       "      <td>0</td>\n",
       "      <td>0</td>\n",
       "      <td>0</td>\n",
       "      <td>0</td>\n",
       "      <td>0</td>\n",
       "      <td>0</td>\n",
       "      <td>0</td>\n",
       "      <td>0</td>\n",
       "      <td>0</td>\n",
       "      <td>0</td>\n",
       "      <td>...</td>\n",
       "      <td>0</td>\n",
       "      <td>0</td>\n",
       "      <td>0</td>\n",
       "      <td>0</td>\n",
       "      <td>0</td>\n",
       "      <td>0</td>\n",
       "      <td>0</td>\n",
       "      <td>0</td>\n",
       "      <td>0</td>\n",
       "      <td>0</td>\n",
       "    </tr>\n",
       "    <tr>\n",
       "      <th>...</th>\n",
       "      <td>...</td>\n",
       "      <td>...</td>\n",
       "      <td>...</td>\n",
       "      <td>...</td>\n",
       "      <td>...</td>\n",
       "      <td>...</td>\n",
       "      <td>...</td>\n",
       "      <td>...</td>\n",
       "      <td>...</td>\n",
       "      <td>...</td>\n",
       "      <td>...</td>\n",
       "      <td>...</td>\n",
       "      <td>...</td>\n",
       "      <td>...</td>\n",
       "      <td>...</td>\n",
       "      <td>...</td>\n",
       "      <td>...</td>\n",
       "      <td>...</td>\n",
       "      <td>...</td>\n",
       "      <td>...</td>\n",
       "      <td>...</td>\n",
       "    </tr>\n",
       "    <tr>\n",
       "      <th>499995</th>\n",
       "      <td>0</td>\n",
       "      <td>0</td>\n",
       "      <td>0</td>\n",
       "      <td>0</td>\n",
       "      <td>0</td>\n",
       "      <td>0</td>\n",
       "      <td>0</td>\n",
       "      <td>0</td>\n",
       "      <td>0</td>\n",
       "      <td>0</td>\n",
       "      <td>...</td>\n",
       "      <td>0</td>\n",
       "      <td>0</td>\n",
       "      <td>0</td>\n",
       "      <td>0</td>\n",
       "      <td>0</td>\n",
       "      <td>0</td>\n",
       "      <td>0</td>\n",
       "      <td>0</td>\n",
       "      <td>0</td>\n",
       "      <td>0</td>\n",
       "    </tr>\n",
       "    <tr>\n",
       "      <th>499996</th>\n",
       "      <td>0</td>\n",
       "      <td>0</td>\n",
       "      <td>0</td>\n",
       "      <td>0</td>\n",
       "      <td>0</td>\n",
       "      <td>0</td>\n",
       "      <td>0</td>\n",
       "      <td>0</td>\n",
       "      <td>0</td>\n",
       "      <td>0</td>\n",
       "      <td>...</td>\n",
       "      <td>0</td>\n",
       "      <td>0</td>\n",
       "      <td>0</td>\n",
       "      <td>0</td>\n",
       "      <td>0</td>\n",
       "      <td>0</td>\n",
       "      <td>0</td>\n",
       "      <td>0</td>\n",
       "      <td>0</td>\n",
       "      <td>0</td>\n",
       "    </tr>\n",
       "    <tr>\n",
       "      <th>499997</th>\n",
       "      <td>0</td>\n",
       "      <td>0</td>\n",
       "      <td>0</td>\n",
       "      <td>0</td>\n",
       "      <td>0</td>\n",
       "      <td>0</td>\n",
       "      <td>0</td>\n",
       "      <td>0</td>\n",
       "      <td>0</td>\n",
       "      <td>0</td>\n",
       "      <td>...</td>\n",
       "      <td>0</td>\n",
       "      <td>0</td>\n",
       "      <td>0</td>\n",
       "      <td>0</td>\n",
       "      <td>0</td>\n",
       "      <td>0</td>\n",
       "      <td>0</td>\n",
       "      <td>0</td>\n",
       "      <td>0</td>\n",
       "      <td>0</td>\n",
       "    </tr>\n",
       "    <tr>\n",
       "      <th>499998</th>\n",
       "      <td>0</td>\n",
       "      <td>1</td>\n",
       "      <td>0</td>\n",
       "      <td>0</td>\n",
       "      <td>0</td>\n",
       "      <td>0</td>\n",
       "      <td>0</td>\n",
       "      <td>0</td>\n",
       "      <td>0</td>\n",
       "      <td>0</td>\n",
       "      <td>...</td>\n",
       "      <td>0</td>\n",
       "      <td>0</td>\n",
       "      <td>0</td>\n",
       "      <td>0</td>\n",
       "      <td>0</td>\n",
       "      <td>0</td>\n",
       "      <td>0</td>\n",
       "      <td>0</td>\n",
       "      <td>0</td>\n",
       "      <td>0</td>\n",
       "    </tr>\n",
       "    <tr>\n",
       "      <th>499999</th>\n",
       "      <td>0</td>\n",
       "      <td>0</td>\n",
       "      <td>0</td>\n",
       "      <td>0</td>\n",
       "      <td>0</td>\n",
       "      <td>0</td>\n",
       "      <td>0</td>\n",
       "      <td>0</td>\n",
       "      <td>0</td>\n",
       "      <td>0</td>\n",
       "      <td>...</td>\n",
       "      <td>0</td>\n",
       "      <td>0</td>\n",
       "      <td>0</td>\n",
       "      <td>0</td>\n",
       "      <td>0</td>\n",
       "      <td>0</td>\n",
       "      <td>0</td>\n",
       "      <td>0</td>\n",
       "      <td>0</td>\n",
       "      <td>0</td>\n",
       "    </tr>\n",
       "  </tbody>\n",
       "</table>\n",
       "<p>500000 rows × 111 columns</p>\n",
       "</div>"
      ]
     },
     "metadata": {},
     "execution_count": 5
    }
   ],
   "metadata": {
    "_cell_guid": "108c5440-cd77-4741-884e-8486675af045",
    "_uuid": "78da62e6fd5b61e512163fc06f44630f0212eebc"
   }
  },
  {
   "cell_type": "code",
   "execution_count": 6,
   "source": [
    "item0 = pd.get_dummies(players['item_0'].fillna(0))\r\n",
    "item1 = pd.get_dummies(players['item_1'].fillna(0))\r\n",
    "item2 = pd.get_dummies(players['item_2'].fillna(0))\r\n",
    "item3 = pd.get_dummies(players['item_3'].fillna(0))\r\n",
    "item4 = pd.get_dummies(players['item_4'].fillna(0))\r\n",
    "item5 = pd.get_dummies(players['item_5'].fillna(0))"
   ],
   "outputs": [],
   "metadata": {
    "_cell_guid": "c73e5311-efdd-4093-b2ed-62905a4ee62c",
    "_uuid": "1c8c1f44d171807db81ce5b0560ffa043025f749",
    "collapsed": true
   }
  },
  {
   "cell_type": "code",
   "execution_count": 7,
   "source": [
    "player_items = item0 \\\r\n",
    "    .add(item1, fill_value=0) \\\r\n",
    "    .add(item2, fill_value=0) \\\r\n",
    "    .add(item3, fill_value=0) \\\r\n",
    "    .add(item4, fill_value=0) \\\r\n",
    "    .add(item5, fill_value=0)\r\n"
   ],
   "outputs": [],
   "metadata": {
    "_cell_guid": "801420ee-96a0-440c-8dc8-2e6b8be10492",
    "_uuid": "355b4b8b6a57334da61d26c11cc6db411fc313ef"
   }
  },
  {
   "cell_type": "code",
   "execution_count": 8,
   "source": [
    "radiant_cols = list(map(lambda s: 'radiant_' + s, player_heroes.columns.values))\r\n",
    "dire_cols = list(map(lambda s: 'dire_' + s, player_heroes.columns.values))"
   ],
   "outputs": [],
   "metadata": {
    "_cell_guid": "ac3cd2d6-ee27-4288-b204-70259f6433b3",
    "_uuid": "a36e6d5e90b9c7edf8b8aa5712a6afd4a1aff07e"
   }
  },
  {
   "cell_type": "code",
   "execution_count": 9,
   "source": [
    "radiant_items_cols = list(map(lambda s: 'radiant_' + str(s), player_items.columns.values))\r\n",
    "dire_items_cols = list(map(lambda s: 'dire_' + str(s), player_items.columns.values))"
   ],
   "outputs": [],
   "metadata": {
    "_cell_guid": "4b137b3a-3cdd-4cf7-bd8d-e31b40b99568",
    "_uuid": "edc918fcac32102419d74e30e1d98e4fad5dacff"
   }
  },
  {
   "cell_type": "code",
   "execution_count": 10,
   "source": [
    "from os.path import isfile\r\n",
    "\r\n",
    "X = None\r\n",
    "\r\n",
    "radiant_heroes = []\r\n",
    "dire_heroes = []\r\n",
    "radiant_items = []\r\n",
    "dire_items = []\r\n",
    "\r\n",
    "for _id, _index in players.groupby('match_id').groups.items():\r\n",
    "    radiant_heroes.append(player_heroes.iloc[_index][:5].sum().values)\r\n",
    "    dire_heroes.append(player_heroes.iloc[_index][5:].sum().values)\r\n",
    "    radiant_items.append(player_items.iloc[_index][:5].sum().values)\r\n",
    "    dire_items.append(player_items.iloc[_index][5:].sum().values)\r\n",
    "\r\n",
    "radiant_heroes = pd.DataFrame(radiant_heroes, columns=radiant_cols)\r\n",
    "dire_heroes = pd.DataFrame(dire_heroes, columns=dire_cols)\r\n",
    "radiant_items = pd.DataFrame(radiant_items, columns=radiant_items_cols)\r\n",
    "dire_items = pd.DataFrame(dire_items, columns=dire_items_cols)\r\n",
    "X = pd.concat([radiant_heroes, dire_heroes], axis=1)\r\n",
    "X_full = pd.concat([radiant_heroes, radiant_items, dire_heroes, dire_items], axis=1)\r\n",
    "# X.to_csv('mapped_match_hero_item.csv', index=False)"
   ],
   "outputs": [],
   "metadata": {
    "_cell_guid": "ea627ea6-bd00-414a-9f3a-326a072ee1cf",
    "_uuid": "7fb4a05478d3e874cb7c272a075e736824891b56"
   }
  },
  {
   "cell_type": "code",
   "execution_count": 30,
   "source": [
    "X.head()"
   ],
   "outputs": [
    {
     "output_type": "execute_result",
     "data": {
      "text/plain": [
       "   radiant_Abaddon  radiant_Alchemist  radiant_Ancient Apparition  \\\n",
       "0                0                  0                           0   \n",
       "1                0                  0                           0   \n",
       "2                0                  0                           0   \n",
       "3                0                  0                           0   \n",
       "4                0                  0                           0   \n",
       "\n",
       "   radiant_Anti-Mage  radiant_Axe  radiant_Bane  radiant_Batrider  \\\n",
       "0                  0            0             0                 0   \n",
       "1                  0            0             0                 0   \n",
       "2                  0            0             0                 0   \n",
       "3                  0            0             0                 0   \n",
       "4                  0            0             0                 0   \n",
       "\n",
       "   radiant_Beastmaster  radiant_Bloodseeker  radiant_Bounty Hunter  ...  \\\n",
       "0                    0                    0                      0  ...   \n",
       "1                    0                    0                      0  ...   \n",
       "2                    0                    0                      0  ...   \n",
       "3                    0                    0                      0  ...   \n",
       "4                    0                    0                      0  ...   \n",
       "\n",
       "   dire_Venomancer  dire_Viper  dire_Visage  dire_Warlock  dire_Weaver  \\\n",
       "0                0           0            0             0            0   \n",
       "1                0           0            0             0            0   \n",
       "2                0           0            0             0            0   \n",
       "3                1           1            0             0            0   \n",
       "4                0           0            0             0            0   \n",
       "\n",
       "   dire_Windranger  dire_Winter Wyvern  dire_Witch Doctor  dire_Wraith King  \\\n",
       "0                0                   0                  0                 0   \n",
       "1                0                   0                  0                 0   \n",
       "2                0                   0                  0                 0   \n",
       "3                0                   0                  0                 0   \n",
       "4                1                   0                  0                 0   \n",
       "\n",
       "   dire_Zeus  \n",
       "0          0  \n",
       "1          1  \n",
       "2          0  \n",
       "3          0  \n",
       "4          1  \n",
       "\n",
       "[5 rows x 222 columns]"
      ],
      "text/html": [
       "<div>\n",
       "<style scoped>\n",
       "    .dataframe tbody tr th:only-of-type {\n",
       "        vertical-align: middle;\n",
       "    }\n",
       "\n",
       "    .dataframe tbody tr th {\n",
       "        vertical-align: top;\n",
       "    }\n",
       "\n",
       "    .dataframe thead th {\n",
       "        text-align: right;\n",
       "    }\n",
       "</style>\n",
       "<table border=\"1\" class=\"dataframe\">\n",
       "  <thead>\n",
       "    <tr style=\"text-align: right;\">\n",
       "      <th></th>\n",
       "      <th>radiant_Abaddon</th>\n",
       "      <th>radiant_Alchemist</th>\n",
       "      <th>radiant_Ancient Apparition</th>\n",
       "      <th>radiant_Anti-Mage</th>\n",
       "      <th>radiant_Axe</th>\n",
       "      <th>radiant_Bane</th>\n",
       "      <th>radiant_Batrider</th>\n",
       "      <th>radiant_Beastmaster</th>\n",
       "      <th>radiant_Bloodseeker</th>\n",
       "      <th>radiant_Bounty Hunter</th>\n",
       "      <th>...</th>\n",
       "      <th>dire_Venomancer</th>\n",
       "      <th>dire_Viper</th>\n",
       "      <th>dire_Visage</th>\n",
       "      <th>dire_Warlock</th>\n",
       "      <th>dire_Weaver</th>\n",
       "      <th>dire_Windranger</th>\n",
       "      <th>dire_Winter Wyvern</th>\n",
       "      <th>dire_Witch Doctor</th>\n",
       "      <th>dire_Wraith King</th>\n",
       "      <th>dire_Zeus</th>\n",
       "    </tr>\n",
       "  </thead>\n",
       "  <tbody>\n",
       "    <tr>\n",
       "      <th>0</th>\n",
       "      <td>0</td>\n",
       "      <td>0</td>\n",
       "      <td>0</td>\n",
       "      <td>0</td>\n",
       "      <td>0</td>\n",
       "      <td>0</td>\n",
       "      <td>0</td>\n",
       "      <td>0</td>\n",
       "      <td>0</td>\n",
       "      <td>0</td>\n",
       "      <td>...</td>\n",
       "      <td>0</td>\n",
       "      <td>0</td>\n",
       "      <td>0</td>\n",
       "      <td>0</td>\n",
       "      <td>0</td>\n",
       "      <td>0</td>\n",
       "      <td>0</td>\n",
       "      <td>0</td>\n",
       "      <td>0</td>\n",
       "      <td>0</td>\n",
       "    </tr>\n",
       "    <tr>\n",
       "      <th>1</th>\n",
       "      <td>0</td>\n",
       "      <td>0</td>\n",
       "      <td>0</td>\n",
       "      <td>0</td>\n",
       "      <td>0</td>\n",
       "      <td>0</td>\n",
       "      <td>0</td>\n",
       "      <td>0</td>\n",
       "      <td>0</td>\n",
       "      <td>0</td>\n",
       "      <td>...</td>\n",
       "      <td>0</td>\n",
       "      <td>0</td>\n",
       "      <td>0</td>\n",
       "      <td>0</td>\n",
       "      <td>0</td>\n",
       "      <td>0</td>\n",
       "      <td>0</td>\n",
       "      <td>0</td>\n",
       "      <td>0</td>\n",
       "      <td>1</td>\n",
       "    </tr>\n",
       "    <tr>\n",
       "      <th>2</th>\n",
       "      <td>0</td>\n",
       "      <td>0</td>\n",
       "      <td>0</td>\n",
       "      <td>0</td>\n",
       "      <td>0</td>\n",
       "      <td>0</td>\n",
       "      <td>0</td>\n",
       "      <td>0</td>\n",
       "      <td>0</td>\n",
       "      <td>0</td>\n",
       "      <td>...</td>\n",
       "      <td>0</td>\n",
       "      <td>0</td>\n",
       "      <td>0</td>\n",
       "      <td>0</td>\n",
       "      <td>0</td>\n",
       "      <td>0</td>\n",
       "      <td>0</td>\n",
       "      <td>0</td>\n",
       "      <td>0</td>\n",
       "      <td>0</td>\n",
       "    </tr>\n",
       "    <tr>\n",
       "      <th>3</th>\n",
       "      <td>0</td>\n",
       "      <td>0</td>\n",
       "      <td>0</td>\n",
       "      <td>0</td>\n",
       "      <td>0</td>\n",
       "      <td>0</td>\n",
       "      <td>0</td>\n",
       "      <td>0</td>\n",
       "      <td>0</td>\n",
       "      <td>0</td>\n",
       "      <td>...</td>\n",
       "      <td>1</td>\n",
       "      <td>1</td>\n",
       "      <td>0</td>\n",
       "      <td>0</td>\n",
       "      <td>0</td>\n",
       "      <td>0</td>\n",
       "      <td>0</td>\n",
       "      <td>0</td>\n",
       "      <td>0</td>\n",
       "      <td>0</td>\n",
       "    </tr>\n",
       "    <tr>\n",
       "      <th>4</th>\n",
       "      <td>0</td>\n",
       "      <td>0</td>\n",
       "      <td>0</td>\n",
       "      <td>0</td>\n",
       "      <td>0</td>\n",
       "      <td>0</td>\n",
       "      <td>0</td>\n",
       "      <td>0</td>\n",
       "      <td>0</td>\n",
       "      <td>0</td>\n",
       "      <td>...</td>\n",
       "      <td>0</td>\n",
       "      <td>0</td>\n",
       "      <td>0</td>\n",
       "      <td>0</td>\n",
       "      <td>0</td>\n",
       "      <td>1</td>\n",
       "      <td>0</td>\n",
       "      <td>0</td>\n",
       "      <td>0</td>\n",
       "      <td>1</td>\n",
       "    </tr>\n",
       "  </tbody>\n",
       "</table>\n",
       "<p>5 rows × 222 columns</p>\n",
       "</div>"
      ]
     },
     "metadata": {},
     "execution_count": 30
    }
   ],
   "metadata": {
    "_cell_guid": "9c006eea-26a7-404a-bd8e-9e0025707070",
    "_uuid": "62dfdba3a39a8d78c9459d3fffe5fc88a1c551d6"
   }
  },
  {
   "cell_type": "code",
   "execution_count": 12,
   "source": [
    "y = matches['radiant_win'].apply(lambda win: 1 if win else 0)\r\n",
    "classes = ['Dire Win', 'Radiant Win']"
   ],
   "outputs": [],
   "metadata": {
    "_cell_guid": "4b91d407-7ebf-4f6f-bc5d-9ab21c8d726c",
    "_uuid": "657af50479d8368aeecfdaf1a5ed99a3b3eb6358",
    "collapsed": true
   }
  },
  {
   "cell_type": "code",
   "execution_count": 13,
   "source": [
    "_ = pd.Series(y).apply(lambda i: classes[i]).value_counts()"
   ],
   "outputs": [],
   "metadata": {
    "_cell_guid": "088c363d-9b42-4289-b1b6-8ba6d340be27",
    "_uuid": "28f5bbe88957de6bcced2a0c93742ab34cc5d6ec"
   }
  },
  {
   "cell_type": "code",
   "execution_count": 77,
   "source": [
    "from sklearn.model_selection import train_test_split\r\n",
    "\r\n",
    "X_train, X_test, y_train, y_test = train_test_split(X,y, test_size=.1)\r\n",
    "\r\n",
    "print(X_train.shape, y_train.shape)\r\n",
    "print(X_test.shape, y_test.shape)"
   ],
   "outputs": [
    {
     "output_type": "stream",
     "name": "stdout",
     "text": [
      "(45000, 222) (45000,)\n",
      "(5000, 222) (5000,)\n"
     ]
    }
   ],
   "metadata": {}
  },
  {
   "cell_type": "code",
   "execution_count": 69,
   "source": [
    "import io\r\n",
    "from scipy import misc\r\n",
    "from sklearn.tree import DecisionTreeClassifier, export_graphviz\r\n",
    "from sklearn.linear_model import SGDClassifier\r\n",
    "from sklearn.svm import SVC, LinearSVC\r\n",
    "from sklearn.naive_bayes import GaussianNB\r\n",
    "from sklearn.metrics import accuracy_score, precision_score, recall_score\r\n",
    "from sklearn.ensemble import RandomForestClassifier\r\n",
    "from sklearn.linear_model import LogisticRegression\r\n",
    "from sklearn.model_selection import cross_val_score\r\n",
    "from xgboost import XGBClassifier\r\n",
    "from sklearn.neighbors import KNeighborsClassifier\r\n",
    "import matplotlib.pyplot as plt\r\n",
    "from sklearn.model_selection import GridSearchCV\r\n",
    "\r\n",
    "import tensorflow as tf\r\n",
    "from tensorflow.keras.models import Sequential\r\n",
    "from tensorflow.keras.layers import Dense, Dropout\r\n",
    "from tensorflow.keras.optimizers import Adam\r\n",
    "from tensorflow.keras.callbacks import EarlyStopping\r\n",
    "from tensorflow.keras import regularizers\r\n",
    "\r\n",
    "config = tf.compat.v1.ConfigProto()\r\n",
    "config.gpu_options.allow_growth = True\r\n",
    "session = tf.compat.v1.Session(config=config)"
   ],
   "outputs": [],
   "metadata": {
    "_cell_guid": "2efb7e44-7f15-4a15-a807-ef034559300e",
    "_uuid": "d33b0767ca0a19f91bf3def231e15d3cba41aa30",
    "collapsed": true
   }
  },
  {
   "cell_type": "code",
   "execution_count": 71,
   "source": [
    "#Models\r\n",
    "\r\n",
    "DTC = DecisionTreeClassifier()\r\n",
    "LR = LogisticRegression()\r\n",
    "SGD = SGDClassifier()\r\n",
    "SVC = LinearSVC()\r\n",
    "GNB = GaussianNB()\r\n",
    "XGB = XGBClassifier()\r\n",
    "RFC = RandomForestClassifier()"
   ],
   "outputs": [],
   "metadata": {}
  },
  {
   "cell_type": "markdown",
   "source": [
    "# Decision Tree"
   ],
   "metadata": {}
  },
  {
   "cell_type": "code",
   "execution_count": 108,
   "source": [
    "param_grid = {\"max_depth\":[10,20,30], \"min_samples_leaf\":[1,2,3]}\r\n",
    "\r\n",
    "gcv = GridSearchCV(DecisionTreeClassifier(),param_grid,cv=5)\r\n",
    "gcv.fit(X_train, y_train)\r\n",
    "\r\n",
    "print(gcv.best_params_)\r\n",
    "y_pred = gcv.best_estimator_.predict(X_test)\r\n",
    "print('Accuracy ',accuracy_score(y_test, y_pred))\r\n",
    "print('Precision ',precision_score(y_test, y_pred))\r\n",
    "print('Recall ',recall_score(y_test, y_pred))"
   ],
   "outputs": [
    {
     "output_type": "stream",
     "name": "stdout",
     "text": [
      "{'max_depth': 20, 'min_samples_leaf': 1}\n",
      "Accuracy  0.5576\n",
      "Precision  0.5714743589743589\n",
      "Recall  0.6708051166290444\n"
     ]
    }
   ],
   "metadata": {}
  },
  {
   "cell_type": "markdown",
   "source": [
    "# Logistic Regression"
   ],
   "metadata": {}
  },
  {
   "cell_type": "code",
   "execution_count": 107,
   "source": [
    "param_grid = {\"C\":[1,5,10]}\r\n",
    "\r\n",
    "gcv = GridSearchCV(LogisticRegression(),param_grid,cv=3)\r\n",
    "gcv.fit(X_train, y_train)\r\n",
    "\r\n",
    "print(gcv.best_params_)\r\n",
    "y_pred = gcv.best_estimator_.predict(X_test)\r\n",
    "print('Accuracy ',accuracy_score(y_test, y_pred))\r\n",
    "print('Precision ',precision_score(y_test, y_pred))\r\n",
    "print('Recall ',recall_score(y_test, y_pred))"
   ],
   "outputs": [
    {
     "output_type": "stream",
     "name": "stdout",
     "text": [
      "{'C': 5}\n",
      "Accuracy  0.5948\n",
      "Precision  0.6127765881513205\n",
      "Recall  0.6459744168547781\n"
     ]
    }
   ],
   "metadata": {}
  },
  {
   "cell_type": "markdown",
   "source": [
    "# SVM using Stochastic Gradient Descent "
   ],
   "metadata": {}
  },
  {
   "cell_type": "code",
   "execution_count": 106,
   "source": [
    "param_grid = {\"loss\" :[\"hinge\",\"log\"], \"alpha\":[0.0001, 0.001, 0.005]}\r\n",
    "\r\n",
    "gcv = GridSearchCV(SGDClassifier(),param_grid,cv=3)\r\n",
    "gcv.fit(X_train, y_train)\r\n",
    "\r\n",
    "print(gcv.best_params_)\r\n",
    "y_pred = gcv.best_estimator_.predict(X_test)\r\n",
    "print('Accuracy ',accuracy_score(y_test, y_pred))\r\n",
    "print('Precision ',precision_score(y_test, y_pred))\r\n",
    "print('Recall ',recall_score(y_test, y_pred))"
   ],
   "outputs": [
    {
     "output_type": "stream",
     "name": "stdout",
     "text": [
      "{'alpha': 0.001, 'loss': 'hinge'}\n",
      "Accuracy  0.5964\n",
      "Precision  0.6204819277108434\n",
      "Recall  0.6200150489089541\n"
     ]
    }
   ],
   "metadata": {}
  },
  {
   "cell_type": "markdown",
   "source": [
    "# Linear Support Vector Classification"
   ],
   "metadata": {}
  },
  {
   "cell_type": "code",
   "execution_count": 104,
   "source": [
    "param_grid = {\"loss\" :[\"hinge\",\"squared_hinge\"], \"C\":[1, 5, 10]}\r\n",
    "\r\n",
    "gcv = GridSearchCV(LinearSVC(),param_grid,cv=5)\r\n",
    "gcv.fit(X_train, y_train)\r\n",
    "\r\n",
    "print(gcv.best_params_)\r\n",
    "y_pred = gcv.best_estimator_.predict(X_test)\r\n"
   ],
   "outputs": [
    {
     "output_type": "stream",
     "name": "stderr",
     "text": [
      "H:\\ProgramData\\Anaconda3\\envs\\TensorFlow_GPU_Test\\lib\\site-packages\\sklearn\\svm\\_base.py:986: ConvergenceWarning: Liblinear failed to converge, increase the number of iterations.\n",
      "  \"the number of iterations.\", ConvergenceWarning)\n",
      "H:\\ProgramData\\Anaconda3\\envs\\TensorFlow_GPU_Test\\lib\\site-packages\\sklearn\\svm\\_base.py:986: ConvergenceWarning: Liblinear failed to converge, increase the number of iterations.\n",
      "  \"the number of iterations.\", ConvergenceWarning)\n",
      "H:\\ProgramData\\Anaconda3\\envs\\TensorFlow_GPU_Test\\lib\\site-packages\\sklearn\\svm\\_base.py:986: ConvergenceWarning: Liblinear failed to converge, increase the number of iterations.\n",
      "  \"the number of iterations.\", ConvergenceWarning)\n",
      "H:\\ProgramData\\Anaconda3\\envs\\TensorFlow_GPU_Test\\lib\\site-packages\\sklearn\\svm\\_base.py:986: ConvergenceWarning: Liblinear failed to converge, increase the number of iterations.\n",
      "  \"the number of iterations.\", ConvergenceWarning)\n",
      "H:\\ProgramData\\Anaconda3\\envs\\TensorFlow_GPU_Test\\lib\\site-packages\\sklearn\\svm\\_base.py:986: ConvergenceWarning: Liblinear failed to converge, increase the number of iterations.\n",
      "  \"the number of iterations.\", ConvergenceWarning)\n",
      "H:\\ProgramData\\Anaconda3\\envs\\TensorFlow_GPU_Test\\lib\\site-packages\\sklearn\\svm\\_base.py:986: ConvergenceWarning: Liblinear failed to converge, increase the number of iterations.\n",
      "  \"the number of iterations.\", ConvergenceWarning)\n",
      "H:\\ProgramData\\Anaconda3\\envs\\TensorFlow_GPU_Test\\lib\\site-packages\\sklearn\\svm\\_base.py:986: ConvergenceWarning: Liblinear failed to converge, increase the number of iterations.\n",
      "  \"the number of iterations.\", ConvergenceWarning)\n",
      "H:\\ProgramData\\Anaconda3\\envs\\TensorFlow_GPU_Test\\lib\\site-packages\\sklearn\\svm\\_base.py:986: ConvergenceWarning: Liblinear failed to converge, increase the number of iterations.\n",
      "  \"the number of iterations.\", ConvergenceWarning)\n",
      "H:\\ProgramData\\Anaconda3\\envs\\TensorFlow_GPU_Test\\lib\\site-packages\\sklearn\\svm\\_base.py:986: ConvergenceWarning: Liblinear failed to converge, increase the number of iterations.\n",
      "  \"the number of iterations.\", ConvergenceWarning)\n",
      "H:\\ProgramData\\Anaconda3\\envs\\TensorFlow_GPU_Test\\lib\\site-packages\\sklearn\\svm\\_base.py:986: ConvergenceWarning: Liblinear failed to converge, increase the number of iterations.\n",
      "  \"the number of iterations.\", ConvergenceWarning)\n",
      "H:\\ProgramData\\Anaconda3\\envs\\TensorFlow_GPU_Test\\lib\\site-packages\\sklearn\\svm\\_base.py:986: ConvergenceWarning: Liblinear failed to converge, increase the number of iterations.\n",
      "  \"the number of iterations.\", ConvergenceWarning)\n",
      "H:\\ProgramData\\Anaconda3\\envs\\TensorFlow_GPU_Test\\lib\\site-packages\\sklearn\\svm\\_base.py:986: ConvergenceWarning: Liblinear failed to converge, increase the number of iterations.\n",
      "  \"the number of iterations.\", ConvergenceWarning)\n",
      "H:\\ProgramData\\Anaconda3\\envs\\TensorFlow_GPU_Test\\lib\\site-packages\\sklearn\\svm\\_base.py:986: ConvergenceWarning: Liblinear failed to converge, increase the number of iterations.\n",
      "  \"the number of iterations.\", ConvergenceWarning)\n",
      "H:\\ProgramData\\Anaconda3\\envs\\TensorFlow_GPU_Test\\lib\\site-packages\\sklearn\\svm\\_base.py:986: ConvergenceWarning: Liblinear failed to converge, increase the number of iterations.\n",
      "  \"the number of iterations.\", ConvergenceWarning)\n",
      "H:\\ProgramData\\Anaconda3\\envs\\TensorFlow_GPU_Test\\lib\\site-packages\\sklearn\\svm\\_base.py:986: ConvergenceWarning: Liblinear failed to converge, increase the number of iterations.\n",
      "  \"the number of iterations.\", ConvergenceWarning)\n",
      "H:\\ProgramData\\Anaconda3\\envs\\TensorFlow_GPU_Test\\lib\\site-packages\\sklearn\\svm\\_base.py:986: ConvergenceWarning: Liblinear failed to converge, increase the number of iterations.\n",
      "  \"the number of iterations.\", ConvergenceWarning)\n",
      "H:\\ProgramData\\Anaconda3\\envs\\TensorFlow_GPU_Test\\lib\\site-packages\\sklearn\\svm\\_base.py:986: ConvergenceWarning: Liblinear failed to converge, increase the number of iterations.\n",
      "  \"the number of iterations.\", ConvergenceWarning)\n",
      "H:\\ProgramData\\Anaconda3\\envs\\TensorFlow_GPU_Test\\lib\\site-packages\\sklearn\\svm\\_base.py:986: ConvergenceWarning: Liblinear failed to converge, increase the number of iterations.\n",
      "  \"the number of iterations.\", ConvergenceWarning)\n",
      "H:\\ProgramData\\Anaconda3\\envs\\TensorFlow_GPU_Test\\lib\\site-packages\\sklearn\\svm\\_base.py:986: ConvergenceWarning: Liblinear failed to converge, increase the number of iterations.\n",
      "  \"the number of iterations.\", ConvergenceWarning)\n",
      "H:\\ProgramData\\Anaconda3\\envs\\TensorFlow_GPU_Test\\lib\\site-packages\\sklearn\\svm\\_base.py:986: ConvergenceWarning: Liblinear failed to converge, increase the number of iterations.\n",
      "  \"the number of iterations.\", ConvergenceWarning)\n",
      "H:\\ProgramData\\Anaconda3\\envs\\TensorFlow_GPU_Test\\lib\\site-packages\\sklearn\\svm\\_base.py:986: ConvergenceWarning: Liblinear failed to converge, increase the number of iterations.\n",
      "  \"the number of iterations.\", ConvergenceWarning)\n",
      "H:\\ProgramData\\Anaconda3\\envs\\TensorFlow_GPU_Test\\lib\\site-packages\\sklearn\\svm\\_base.py:986: ConvergenceWarning: Liblinear failed to converge, increase the number of iterations.\n",
      "  \"the number of iterations.\", ConvergenceWarning)\n",
      "H:\\ProgramData\\Anaconda3\\envs\\TensorFlow_GPU_Test\\lib\\site-packages\\sklearn\\svm\\_base.py:986: ConvergenceWarning: Liblinear failed to converge, increase the number of iterations.\n",
      "  \"the number of iterations.\", ConvergenceWarning)\n",
      "H:\\ProgramData\\Anaconda3\\envs\\TensorFlow_GPU_Test\\lib\\site-packages\\sklearn\\svm\\_base.py:986: ConvergenceWarning: Liblinear failed to converge, increase the number of iterations.\n",
      "  \"the number of iterations.\", ConvergenceWarning)\n",
      "H:\\ProgramData\\Anaconda3\\envs\\TensorFlow_GPU_Test\\lib\\site-packages\\sklearn\\svm\\_base.py:986: ConvergenceWarning: Liblinear failed to converge, increase the number of iterations.\n",
      "  \"the number of iterations.\", ConvergenceWarning)\n"
     ]
    },
    {
     "output_type": "stream",
     "name": "stdout",
     "text": [
      "{'C': 1, 'loss': 'squared_hinge'}\n"
     ]
    }
   ],
   "metadata": {}
  },
  {
   "cell_type": "code",
   "execution_count": 105,
   "source": [
    "print('Accuracy ',accuracy_score(y_test, y_pred))\r\n",
    "print('Precision ',precision_score(y_test, y_pred))\r\n",
    "print('Recall ',recall_score(y_test, y_pred))"
   ],
   "outputs": [
    {
     "output_type": "stream",
     "name": "stdout",
     "text": [
      "Accuracy  0.5946\n",
      "Precision  0.6127188281529118\n",
      "Recall  0.6452219714070729\n"
     ]
    }
   ],
   "metadata": {}
  },
  {
   "cell_type": "markdown",
   "source": [
    "# Gaussian Naive Bayes"
   ],
   "metadata": {}
  },
  {
   "cell_type": "code",
   "execution_count": 103,
   "source": [
    "param_grid = {\"var_smoothing\" :[1e-9, 1e-5, 1, 10, 100]}\r\n",
    "\r\n",
    "gcv = GridSearchCV(GaussianNB(),param_grid,cv=5)\r\n",
    "gcv.fit(X_train, y_train)\r\n",
    "\r\n",
    "print(gcv.best_params_)\r\n",
    "y_pred = gcv.best_estimator_.predict(X_test)\r\n",
    "print('Accuracy ',accuracy_score(y_test, y_pred))\r\n",
    "print('Precision ',precision_score(y_test, y_pred))\r\n",
    "print('Recall ',recall_score(y_test, y_pred))"
   ],
   "outputs": [
    {
     "output_type": "stream",
     "name": "stdout",
     "text": [
      "{'var_smoothing': 1}\n",
      "Accuracy  0.5988\n",
      "Precision  0.6069553805774278\n",
      "Recall  0.6960120391271633\n"
     ]
    }
   ],
   "metadata": {}
  },
  {
   "cell_type": "markdown",
   "source": [
    "# XGB Classifier"
   ],
   "metadata": {}
  },
  {
   "cell_type": "code",
   "execution_count": 97,
   "source": [
    "gcv = XGBClassifier(use_label_encoder=False, eval_metric=\"logloss\")\r\n",
    "gcv.fit(X_train, y_train)\r\n",
    "\r\n",
    "y_pred = gcv.predict(X_test)\r\n",
    "accuracy_score(y_test, y_pred)"
   ],
   "outputs": [
    {
     "output_type": "execute_result",
     "data": {
      "text/plain": [
       "0.5924"
      ]
     },
     "metadata": {},
     "execution_count": 97
    }
   ],
   "metadata": {}
  },
  {
   "cell_type": "code",
   "execution_count": 98,
   "source": [
    "gcv"
   ],
   "outputs": [
    {
     "output_type": "execute_result",
     "data": {
      "text/plain": [
       "XGBClassifier(base_score=0.5, booster='gbtree', colsample_bylevel=1,\n",
       "              colsample_bynode=1, colsample_bytree=1, eval_metric='logloss',\n",
       "              gamma=0, gpu_id=-1, importance_type='gain',\n",
       "              interaction_constraints='', learning_rate=0.300000012,\n",
       "              max_delta_step=0, max_depth=6, min_child_weight=1, missing=nan,\n",
       "              monotone_constraints='()', n_estimators=100, n_jobs=12,\n",
       "              num_parallel_tree=1, random_state=0, reg_alpha=0, reg_lambda=1,\n",
       "              scale_pos_weight=1, subsample=1, tree_method='exact',\n",
       "              use_label_encoder=False, validate_parameters=1, verbosity=None)"
      ]
     },
     "metadata": {},
     "execution_count": 98
    }
   ],
   "metadata": {}
  },
  {
   "cell_type": "code",
   "execution_count": 99,
   "source": [
    "print('Accuracy ',accuracy_score(y_test, y_pred))\r\n",
    "print('Precision ',precision_score(y_test, y_pred))\r\n",
    "print('Recall ',recall_score(y_test, y_pred))"
   ],
   "outputs": [
    {
     "output_type": "stream",
     "name": "stdout",
     "text": [
      "Accuracy  0.5924\n",
      "Precision  0.6115107913669064\n",
      "Recall  0.6395786305492852\n"
     ]
    }
   ],
   "metadata": {}
  },
  {
   "cell_type": "markdown",
   "source": [
    "# Random Forest"
   ],
   "metadata": {}
  },
  {
   "cell_type": "code",
   "execution_count": 100,
   "source": [
    "param_grid = {\"n_estimators\" :[100, 200], \"max_depth\": [None, 8, 16]}\r\n",
    "\r\n",
    "gcv = GridSearchCV(RandomForestClassifier(),param_grid,cv=5)\r\n",
    "gcv.fit(X_train, y_train)\r\n",
    "\r\n",
    "print(gcv.best_params_)\r\n",
    "y_pred = gcv.best_estimator_.predict(X_test)\r\n",
    "accuracy_score(y_test, y_pred)"
   ],
   "outputs": [
    {
     "output_type": "stream",
     "name": "stdout",
     "text": [
      "{'max_depth': 16, 'n_estimators': 200}\n"
     ]
    },
    {
     "output_type": "execute_result",
     "data": {
      "text/plain": [
       "0.5836"
      ]
     },
     "metadata": {},
     "execution_count": 100
    }
   ],
   "metadata": {}
  },
  {
   "cell_type": "code",
   "execution_count": 101,
   "source": [
    "RFC = RandomForestClassifier(n_estimators=500, max_depth=32)\r\n",
    "RFC.fit(X_train, y_train)\r\n"
   ],
   "outputs": [
    {
     "output_type": "execute_result",
     "data": {
      "text/plain": [
       "RandomForestClassifier(max_depth=32, n_estimators=500)"
      ]
     },
     "metadata": {},
     "execution_count": 101
    }
   ],
   "metadata": {}
  },
  {
   "cell_type": "code",
   "execution_count": 102,
   "source": [
    "y_pred = RFC.predict(X_test)\r\n",
    "print('Accuracy ',accuracy_score(y_test, y_pred))\r\n",
    "print('Precision ',precision_score(y_test, y_pred))\r\n",
    "print('Recall ',recall_score(y_test, y_pred))\r\n"
   ],
   "outputs": [
    {
     "output_type": "stream",
     "name": "stdout",
     "text": [
      "Accuracy  0.5934\n",
      "Precision  0.6026272577996716\n",
      "Recall  0.6903686982693755\n"
     ]
    }
   ],
   "metadata": {}
  },
  {
   "cell_type": "markdown",
   "source": [
    "# Results\r\n",
    "\r\n",
    "<img src=\"mlresults-heroes.png\">"
   ],
   "metadata": {}
  }
 ],
 "metadata": {
  "kernelspec": {
   "display_name": "Python 3",
   "language": "python",
   "name": "python3"
  },
  "language_info": {
   "codemirror_mode": {
    "name": "ipython",
    "version": 3
   },
   "file_extension": ".py",
   "mimetype": "text/x-python",
   "name": "python",
   "nbconvert_exporter": "python",
   "pygments_lexer": "ipython3",
   "version": "3.6.1"
  }
 },
 "nbformat": 4,
 "nbformat_minor": 2
}